{
 "cells": [
  {
   "cell_type": "code",
   "execution_count": 1,
   "metadata": {
    "collapsed": true,
    "ExecuteTime": {
     "end_time": "2023-07-11T11:04:31.707540600Z",
     "start_time": "2023-07-11T11:04:28.728613300Z"
    }
   },
   "outputs": [],
   "source": [
    "import math as mt\n",
    "import numpy as np\n",
    "import pandas as pd"
   ]
  },
  {
   "cell_type": "code",
   "execution_count": 2,
   "outputs": [],
   "source": [
    "#Nur einige Hilfsfunktionen zum Formatieren etc.\n",
    "def invertArray(col_arr):\n",
    "    res = [[] for i in range(len(col_arr[0]))]\n",
    "    for c in range(len(col_arr)):\n",
    "        for r in range(len(col_arr[0])):\n",
    "            res[r].append(col_arr[c][r])\n",
    "    return res\n",
    "\n",
    "\n",
    "\n",
    "def getCommaIndex(inpt_str):\n",
    "    commaInd_inpt = -1\n",
    "    for i in range(len(inpt_str)):\n",
    "        commaInd_inpt = i if inpt_str[i] == '.' else commaInd_inpt\n",
    "    if commaInd_inpt ==-1:\n",
    "        commaInd_inpt = len(inpt_str) - 1\n",
    "    return commaInd_inpt\n",
    "\n",
    "def sig_format(inpt, err, sig_dgts, smallDigits = True, debug = False):\n",
    "\n",
    "    if debug:\n",
    "        print(\"inpt = \", inpt)\n",
    "    pot = 0\n",
    "    if smallDigits and (np.abs(inpt) < 10**(-3) or np.abs(err) < 10**(-3)):\n",
    "        pot = mt.ceil(np.max([0, -mt.log10(np.abs(inpt)) if inpt != 0 else 0, -mt.log10(np.abs(err)) if err != 0 else 0]))\n",
    "        inpt *= 10**pot\n",
    "        err *= 10**pot\n",
    "    err_str = str(err)\n",
    "    isSig = False\n",
    "    lastSigInd = 0\n",
    "    sigToGo = sig_dgts\n",
    "    commaInd = -1\n",
    "    for i in range(len(err_str)):\n",
    "        if isSig == False and not err_str[i] in ['0', '.']:\n",
    "            isSig = True\n",
    "            if err_str[i] in ['1', '2'] and sig_dgts == 1:\n",
    "                sigToGo += 1\n",
    "\n",
    "        if err_str[i] == '.':\n",
    "            commaInd = i\n",
    "        else:\n",
    "            sigToGo -= isSig\n",
    "        if sigToGo > 0:\n",
    "            lastSigInd += 1\n",
    "\n",
    "    if sigToGo > 0:\n",
    "        sig_dgts -= 1\n",
    "        lastSigInd -= 1\n",
    "    if commaInd == -1:\n",
    "        commaInd = len(err_str)\n",
    "    commaInd = commaInd if commaInd != -1 else len(err_str)\n",
    "    dec_pot = - lastSigInd + commaInd - (lastSigInd < commaInd)\n",
    "    err = err * 10**(-dec_pot)\n",
    "    err = mt.ceil(err)\n",
    "    if dec_pot <= 1:\n",
    "        err_str = str(err * 10**(dec_pot))\n",
    "    else:\n",
    "        err_str = str(err) + \"\\cdot 10^{\" + str(dec_pot) + \"}\"\n",
    "    if lastSigInd > commaInd:\n",
    "        err_str = err_str[:lastSigInd + 1]\n",
    "\n",
    "    if debug:\n",
    "        print(\"err =\", err_str, \"( as Number:\", err, \"*10^\", dec_pot, \")\")\n",
    "\n",
    "    inpt *= 10**(-dec_pot)\n",
    "    inpt_str = str(round(inpt) * 10**dec_pot)\n",
    "    if debug:\n",
    "        print(\"inpt_str = \", inpt_str, \"\\n\", \"inpt=\", inpt)\n",
    "    commaInd_inpt = getCommaIndex(inpt_str)\n",
    "\n",
    "    if len(inpt_str) - 1 - commaInd_inpt != -dec_pot:\n",
    "        inpt_str += '0'\n",
    "    commaInd_inpt = getCommaIndex(inpt_str)\n",
    "\n",
    "\n",
    "    inpt_str = inpt_str[:commaInd_inpt - dec_pot + 1]\n",
    "    if commaInd_inpt - dec_pot + 1 < commaInd_inpt:\n",
    "        inpt_str += \" \\cdot 10^{\" + str(dec_pot - 1) +\"}\"\n",
    "    if debug:\n",
    "        print(inpt_str, \"\\pm\", err_str)\n",
    "    if pot != 0:\n",
    "        inpt_str += (\"\\cdot 10^{\" + str(-pot) + \"}\" if pot != 0 else \"\")\n",
    "        err_str += (\"\\cdot 10^{\" + str(-pot) + \"}\" if pot != 0 else \"\")\n",
    "    return inpt_str, err_str\n",
    "\n",
    "\n",
    "def sigFormatVal(val, err, sig_digits = 1, debug = False, output = True, outpAndReturn = False):\n",
    "\n",
    "    if debug:\n",
    "        print(\"val=\", val, \"err=\", err)\n",
    "    fmt = sig_format(val, err, sig_digits, debug = debug)\n",
    "\n",
    "    res = \"$ \" + fmt[0] + \" \\pm \" + fmt[1]\n",
    "    if val != 0:\n",
    "        if debug:\n",
    "            print(\"val=\", val, \"err = \", err, \"err/val = \", err/val)\n",
    "            print(val/err * val)\n",
    "        res += \"\\: (\\pm \" + sig_format(0, np.abs(100.0 * err/val), 2, smallDigits=False)[1] + \"\\%)\"\n",
    "    res += \"$\"\n",
    "    if output:\n",
    "        print(res)\n",
    "        if not outpAndReturn:\n",
    "            return\n",
    "\n",
    "    return res\n",
    "\n",
    "\n",
    "\n",
    "def isNumber(obj):\n",
    "    try:\n",
    "        tmp = int(obj)\n",
    "        return True\n",
    "    except:\n",
    "        return False\n",
    "#IMPORTANT NOTE: CANT HANDLE SIGNIFICANT 0 AS LAST DIGIT! (for example error 0.10 will be treated as 0.1)\n",
    "\n",
    "def sigFormatTable(arr, val_err_indices, sig_digits = 1, int_cols = [], debug = False):\n",
    "    res = [[\"undefined\" for k in range(len(arr[i]))] for i in range(len(arr))]\n",
    "    trashCan = []\n",
    "    for i in range(len(arr)):\n",
    "        for j in val_err_indices:\n",
    "            if i == j[0]:\n",
    "                for k in range(len(arr[i])):\n",
    "                    if not isNumber(arr[i][k]):\n",
    "                        res[i][k] = str(arr[i][k])\n",
    "                        if debug:\n",
    "                            print(res[i][k])\n",
    "                        continue\n",
    "                    fmt = sig_format(arr[i][k], arr[j[1]][k], sig_digits)\n",
    "                    res[i][k] =  \"$ \" + fmt[0] + \" \\pm \" + fmt[1]\n",
    "                    if arr[i][k] != 0:\n",
    "                        res[i][k] += \"\\: (\\pm \" + sig_format(0, np.abs(100.0 * arr[j[1]][k]/arr[i][k]), 2, smallDigits=False)[1] + \"\\%)\"\n",
    "                    res[i][k] += \"$\"\n",
    "                trashCan.append(j[1])\n",
    "                break\n",
    "        if res[i][0] == \"undefined\":\n",
    "            for k in range(len(arr[i])):\n",
    "                if not isNumber(arr[i][k]):\n",
    "                    res[i][k] = str(arr[i][k])\n",
    "                    continue\n",
    "                if i in int_cols:\n",
    "                   res[i][k] = \"$ \" + str(int(arr[i][k])) + \"$\"\n",
    "                else:\n",
    "                    res[i][k] = \"$ \" + sig_format(arr[i][k], arr[i][k], sig_digits)[0] + \"$\"\n",
    "\n",
    "\n",
    "    for e in trashCan:\n",
    "        res.pop(e)\n",
    "        for i in range(len(trashCan)):\n",
    "            if trashCan[i] > e:\n",
    "                trashCan[i] = trashCan[i] - 1\n",
    "    return res\n",
    "\n",
    "#IMPORTANT NOTE: CANT HANDLE SIGNIFICANT 0 AS LAST DIGIT! (for example error 0.10 will be treated as 0.1)\n",
    "\n",
    "def asLatex(arr, col_labels, dontInvert = False):\n",
    "    df = pd.DataFrame(invertArray(arr), columns=col_labels) if not dontInvert else pd.DataFrame(arr, columns = col_labels)\n",
    "    cformate = \"|\"\n",
    "    for i in df.columns:\n",
    "        cformate += \"l|\"\n",
    "\n",
    "    res = \"\"\"\\\\begin{table}[]\\n\n",
    "    \\t\\centering\\n\n",
    "    \\t\\caption{CHANGE THIS LATER}\\n\\t\"\"\" + df.style.hide(axis=\"index\").to_latex(column_format=cformate, hrules = True).replace(\"toprule\", \"hline\").replace(\"\\n\", \"\\n\\t\\t\") + \"\\t\\label{tab:my_label}\\n\" + \"\\end{table}\"\n",
    "    res = res.replace(\"midrule\", \"hline\")\n",
    "    return res.replace(\"bottomrule\", \"hline\")\n",
    "\n",
    "def printTable(arr, col_labels):\n",
    "    df = pd.DataFrame(invertArray(arr), columns=col_labels)\n",
    "    print(df.to_markdown())\n",
    "\n",
    "def showTable(arr, col_labels):\n",
    "    df = pd.DataFrame(invertArray(arr), columns=col_labels)\n",
    "    display(df)"
   ],
   "metadata": {
    "collapsed": false,
    "ExecuteTime": {
     "end_time": "2023-07-11T11:04:31.776886400Z",
     "start_time": "2023-07-11T11:04:31.707540600Z"
    }
   }
  },
  {
   "cell_type": "code",
   "execution_count": 3,
   "outputs": [],
   "source": [
    "#T ist die am Oszi angezeigte Abfallzeit\n",
    "T = [88 * 10**(-3), 32.88* 10**(-3), 87.6* 10**(-3)]\n",
    "sigT = 0.01 * 10**(-3)"
   ],
   "metadata": {
    "collapsed": false,
    "ExecuteTime": {
     "end_time": "2023-07-11T11:04:31.792939Z",
     "start_time": "2023-07-11T11:04:31.776886400Z"
    }
   }
  },
  {
   "cell_type": "code",
   "execution_count": 4,
   "outputs": [],
   "source": [
    "#Hilfvariablen, dictionary für die Listenindizes\n",
    "nr_b = 0\n",
    "nr_c = 1\n",
    "nr_d = 2"
   ],
   "metadata": {
    "collapsed": false,
    "ExecuteTime": {
     "end_time": "2023-07-11T11:04:31.808868Z",
     "start_time": "2023-07-11T11:04:31.792939Z"
    }
   }
  },
  {
   "cell_type": "code",
   "execution_count": 5,
   "outputs": [],
   "source": [
    "#Produkte R*C, die durch multiplikation von T mit ln(0.1U/0.9U) = ln(9) bestimmt werden können (ergibt sich aus DGL -> U(t) und Oszi gibt abfallzeit von 90% bis 10% des Signals an)\n",
    "RC = [t/mt.log(9) for t in T]\n",
    "sigRC = sigT/mt.log(9)\n"
   ],
   "metadata": {
    "collapsed": false,
    "ExecuteTime": {
     "end_time": "2023-07-11T11:04:31.824767400Z",
     "start_time": "2023-07-11T11:04:31.808868Z"
    }
   }
  },
  {
   "cell_type": "code",
   "execution_count": 14,
   "outputs": [
    {
     "name": "stdout",
     "output_type": "stream",
     "text": [
      "\\begin{table}[]\n",
      "\n",
      "    \t\\centering\n",
      "\n",
      "    \t\\caption{CHANGE THIS LATER}\n",
      "\t\\begin{tabular}{|l|l|}\n",
      "\t\t\\hline\n",
      "\t\tMessung 3. & RC in \\Ohm \\un F \\\\\n",
      "\t\t\\hline\n",
      "\t\tb & $ 40051\\cdot 10^{-6} \\pm 5\\cdot 10^{-6}\\: (\\pm 0.012\\%)$ \\\\\n",
      "\t\tc & $ 14964\\cdot 10^{-6} \\pm 5\\cdot 10^{-6}\\: (\\pm 0.031\\%)$ \\\\\n",
      "\t\td & $ 39868\\cdot 10^{-6} \\pm 5\\cdot 10^{-6}\\: (\\pm 0.012\\%)$ \\\\\n",
      "\t\t\\hline\n",
      "\t\t\\end{tabular}\n",
      "\t\t\t\\label{tab:my_label}\n",
      "\\end{table}\n"
     ]
    }
   ],
   "source": [
    "#Ausgabe von RC\n",
    "tbl = [[\"b\", \"c\", \"d\"], [rc for rc in RC], [sigRC for rc in RC]]\n",
    "print(asLatex(sigFormatTable(tbl, [[1, 2]]), [\"Messung 3.\", \"RC in \\Ohm \\\\un F\"]))\n",
    "\n",
    "#Definition des 2 MOhm widerstands mit Multimeter-Messung\n",
    "R_2 = 2.01 *10**6\n",
    "sig_R_2 = 0.01 *10**6\n"
   ],
   "metadata": {
    "collapsed": false,
    "ExecuteTime": {
     "end_time": "2023-07-11T11:18:06.021089500Z",
     "start_time": "2023-07-11T11:18:05.941517500Z"
    }
   }
  },
  {
   "cell_type": "markdown",
   "source": [],
   "metadata": {
    "collapsed": false
   }
  },
  {
   "cell_type": "code",
   "execution_count": 20,
   "outputs": [
    {
     "name": "stdout",
     "output_type": "stream",
     "text": [
      "$ 33700 \\cdot 10^{2} \\pm 17\\cdot 10^{3}\\: (\\pm 0.51\\%)$\n"
     ]
    }
   ],
   "source": [
    "#Calculate R_oszi (vgl. auch Praktikumshandbuch):\n",
    "R_oszi = R_2 * (RC[nr_b]/RC[nr_c] - 1)\n",
    "sig_R_Oszi = (sig_R_2**2 * (RC[nr_b]/RC[nr_c] - 1)**2 + sigRC**2 * ((R_2/RC[nr_c])**2 + (R_2 * (RC[nr_b]/RC[nr_c]**2))**2))**0.5\n",
    "#Gerundete Latex-Ausgabe des Ergebnis'\n",
    "sigFormatVal(R_oszi, sig_R_Oszi)\n",
    "\n",
    "\n"
   ],
   "metadata": {
    "collapsed": false,
    "ExecuteTime": {
     "end_time": "2023-07-11T11:21:32.211395500Z",
     "start_time": "2023-07-11T11:21:32.169699700Z"
    }
   }
  },
  {
   "cell_type": "code",
   "execution_count": 32,
   "outputs": [
    {
     "name": "stdout",
     "output_type": "stream",
     "text": [
      "$ 1189\\cdot 10^{-11} \\pm 5\\cdot 10^{-11}\\: (\\pm 0.37\\%)$\n",
      "$ 1189\\cdot 10^{-11} \\pm 6\\cdot 10^{-11}\\: (\\pm 0.51\\%)$\n"
     ]
    }
   ],
   "source": [
    "#Calcluate C (C = RC/R):\n",
    "R = [R_oszi, 1/(1/R_oszi + 1/R_2)] #Widerstände in Versuchsteilen b und c\n",
    "sigR = [sig_R_Oszi, ((-1/(1/R_oszi + 1/R_2)**2)**2 * (sig_R_Oszi**2 * 1/R_oszi**4 + sig_R_2**2 * 1/R_2**4))**0.5]\n",
    "\n",
    "C = [RC[i]/R[i] for i in range(len(R))] # Hier wird C zweimal berechnet: C = RC/R mit RC, R für beide Versuchsteile\n",
    "sigC = [((sigRC**2)/R[i]**2 + sigR[i]**2 * RC[i]**2/R[i]**4)**0.5 for i in range(len(R))] # Hier ergeben sich verschiedene Fehler, weil RC gleiche Fehler haben, aber die R und sigR unterschiedlich sind. Aktuell wird mit dem ersten Wert (Versuchteil b) weitergerechnet, das ist aber erstmal nur eine vorläufige Lösung um weiterrechnen zu können\n",
    "\n",
    "#Ausgabe des Ergebnis'\n",
    "sigFormatVal(C[1], sigC[1])\n",
    "sigFormatVal(C[0], sigC[0])"
   ],
   "metadata": {
    "collapsed": false,
    "ExecuteTime": {
     "end_time": "2023-07-11T11:31:15.665634800Z",
     "start_time": "2023-07-11T11:31:15.633068600Z"
    }
   }
  },
  {
   "cell_type": "code",
   "execution_count": 35,
   "outputs": [
    {
     "name": "stdout",
     "output_type": "stream",
     "text": [
      "$ 70 \\cdot 10^{7} \\pm 12\\cdot 10^{8}\\: (\\pm 160\\%)$\n",
      "737934087.5912075 1146118864.4871607\n",
      "$ 70 \\cdot 10^{7} \\pm 11\\cdot 10^{8}\\: (\\pm 140\\%)$\n",
      "737934087.5912075 1002120722.7454555\n"
     ]
    }
   ],
   "source": [
    "for i in range(2):\n",
    "    #Berechnung von R_x aus Versuchsteil d:\n",
    "    R_d = RC[nr_d]/C[i]\n",
    "    sigR_d = (sigRC**2/C[i]**2 + sigC[i]**2 * RC[nr_d]**2/C[i]**4)**0.5\n",
    "\n",
    "    R.append(R_d)\n",
    "    sigR.append(sigR_d)\n",
    "    R_x = 1/(1/R_d - 1/R_oszi)\n",
    "\n",
    "    sigR_x = ((R_oszi**2/(R_oszi - R_d)**2)**2 * sigR_d**2 + sig_R_Oszi**2 * (R_d**2 / (R_oszi - R_d)**2)**2)**0.5\n",
    "        #((-1/(1/R_d - 1/R_oszi)**2)**2 * (sigR_d**2 * (-1/R_d**2)**2 + sig_R_Oszi**2 * (1/R_oszi**2)**2))**0.5\n",
    "\n",
    "    sigFormatVal(R_x, sigR_x)\n",
    "    print(R_x, sigR_x)"
   ],
   "metadata": {
    "collapsed": false,
    "ExecuteTime": {
     "end_time": "2023-07-11T11:41:55.284889300Z",
     "start_time": "2023-07-11T11:41:55.256472800Z"
    }
   }
  },
  {
   "cell_type": "code",
   "execution_count": 31,
   "outputs": [
    {
     "name": "stdout",
     "output_type": "stream",
     "text": [
      "\\begin{table}[]\n",
      "\n",
      "    \t\\centering\n",
      "\n",
      "    \t\\caption{CHANGE THIS LATER}\n",
      "\t\\begin{tabular}{|l|l|}\n",
      "\t\t\\hline\n",
      "\t\tR_2 & R in \\Ohm \\\\\n",
      "\t\t\\hline\n",
      "\t\t-- & $ 33700 \\cdot 10^{2} \\pm 17\\cdot 10^{3}\\: (\\pm 0.51\\%)$ \\\\\n",
      "\t\t$2\\dec M \\Ohm & $ 12590 \\cdot 10^{2} \\pm 5\\cdot 10^{3}\\: (\\pm 0.37\\%)$ \\\\\n",
      "\t\t$R_x$ (mit C aus ($\\br{R_g}\\sub{ohne $R_2$}$)) & $ 33540 \\cdot 10^{2} \\pm 17\\cdot 10^{3}\\: (\\pm 0.51\\%)$ \\\\\n",
      "\t\t$R_x$ (mit C aus ($\\br{R_g}_{R_2 = 2 \\dec M \\Ohm}$)) & $ 33540 \\cdot 10^{2} \\pm 13\\cdot 10^{3}\\: (\\pm 0.37\\%)$ \\\\\n",
      "\t\t\\hline\n",
      "\t\t\\end{tabular}\n",
      "\t\t\t\\label{tab:my_label}\n",
      "\\end{table}\n"
     ]
    }
   ],
   "source": [
    "#Ausgabe der Ergebnisse\n",
    "tbl = [[\"--\", \"$2\\dec M \\Ohm$\", \"$R_x$ (mit C aus ($\\\\br{R_g}\\sub{ohne $R_2$}$))\", \"$R_x$ (mit C aus ($\\\\br{R_g}_{R_2 = 2 \\dec M \\Ohm}$))\"], [r for r in R], [sigr for sigr in sigR]]\n",
    "print(asLatex(sigFormatTable(tbl, [[1, 2]]), [\"R_2\", \"R in \\Ohm\"]))"
   ],
   "metadata": {
    "collapsed": false,
    "ExecuteTime": {
     "end_time": "2023-07-11T11:27:18.865869400Z",
     "start_time": "2023-07-11T11:27:18.834394200Z"
    }
   }
  },
  {
   "cell_type": "code",
   "execution_count": null,
   "outputs": [],
   "source": [],
   "metadata": {
    "collapsed": false
   }
  },
  {
   "cell_type": "code",
   "execution_count": null,
   "outputs": [],
   "source": [],
   "metadata": {
    "collapsed": false
   }
  },
  {
   "cell_type": "code",
   "execution_count": 18,
   "outputs": [],
   "source": [],
   "metadata": {
    "collapsed": false,
    "ExecuteTime": {
     "end_time": "2023-07-11T11:18:39.979785700Z",
     "start_time": "2023-07-11T11:18:39.948225800Z"
    }
   }
  },
  {
   "cell_type": "code",
   "execution_count": 19,
   "outputs": [
    {
     "name": "stdout",
     "output_type": "stream",
     "text": [
      "0.49751243781094534\n"
     ]
    }
   ],
   "source": [
    "print(100 * sig_R_2/R_2)"
   ],
   "metadata": {
    "collapsed": false,
    "ExecuteTime": {
     "end_time": "2023-07-11T11:18:40.603812Z",
     "start_time": "2023-07-11T11:18:40.572093400Z"
    }
   }
  },
  {
   "cell_type": "code",
   "execution_count": null,
   "outputs": [],
   "source": [],
   "metadata": {
    "collapsed": false
   }
  },
  {
   "cell_type": "code",
   "execution_count": null,
   "outputs": [],
   "source": [],
   "metadata": {
    "collapsed": false
   }
  }
 ],
 "metadata": {
  "kernelspec": {
   "display_name": "Python 3",
   "language": "python",
   "name": "python3"
  },
  "language_info": {
   "codemirror_mode": {
    "name": "ipython",
    "version": 2
   },
   "file_extension": ".py",
   "mimetype": "text/x-python",
   "name": "python",
   "nbconvert_exporter": "python",
   "pygments_lexer": "ipython2",
   "version": "2.7.6"
  }
 },
 "nbformat": 4,
 "nbformat_minor": 0
}
