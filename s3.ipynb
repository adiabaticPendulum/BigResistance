{
 "cells": [
  {
   "cell_type": "code",
   "execution_count": 1,
   "metadata": {
    "collapsed": true,
    "ExecuteTime": {
     "end_time": "2023-07-08T17:00:37.718913600Z",
     "start_time": "2023-07-08T17:00:37.196887900Z"
    }
   },
   "outputs": [],
   "source": [
    "import math as mt\n",
    "import numpy as np\n",
    "import pandas as pd"
   ]
  },
  {
   "cell_type": "code",
   "execution_count": 2,
   "outputs": [],
   "source": [
    "def invertArray(col_arr):\n",
    "    res = [[] for i in range(len(col_arr[0]))]\n",
    "    for c in range(len(col_arr)):\n",
    "        for r in range(len(col_arr[0])):\n",
    "            res[r].append(col_arr[c][r])\n",
    "    return res\n",
    "\n",
    "\n",
    "\n",
    "def getCommaIndex(inpt_str):\n",
    "    commaInd_inpt = -1\n",
    "    for i in range(len(inpt_str)):\n",
    "        commaInd_inpt = i if inpt_str[i] == '.' else commaInd_inpt\n",
    "    if commaInd_inpt ==-1:\n",
    "        commaInd_inpt = len(inpt_str) - 1\n",
    "    return commaInd_inpt\n",
    "\n",
    "def sig_format(inpt, err, sig_dgts, smallDigits = True, debug = False):\n",
    "\n",
    "    if debug:\n",
    "        print(\"inpt = \", inpt)\n",
    "    pot = 0\n",
    "    if smallDigits and (np.abs(inpt) < 10**(-3) or np.abs(err) < 10**(-3)):\n",
    "        pot = mt.ceil(np.max([0, -mt.log10(np.abs(inpt)) if inpt != 0 else 0, -mt.log10(np.abs(err)) if err != 0 else 0]))\n",
    "        inpt *= 10**pot\n",
    "        err *= 10**pot\n",
    "    err_str = str(err)\n",
    "    isSig = False\n",
    "    lastSigInd = 0\n",
    "    sigToGo = sig_dgts\n",
    "    commaInd = -1\n",
    "    for i in range(len(err_str)):\n",
    "        if isSig == False and not err_str[i] in ['0', '.']:\n",
    "            isSig = True\n",
    "            if err_str[i] in ['1', '2'] and sig_dgts == 1:\n",
    "                sigToGo += 1\n",
    "\n",
    "        if err_str[i] == '.':\n",
    "            commaInd = i\n",
    "        else:\n",
    "            sigToGo -= isSig\n",
    "        if sigToGo > 0:\n",
    "            lastSigInd += 1\n",
    "\n",
    "    if sigToGo > 0:\n",
    "        sig_dgts -= 1\n",
    "        lastSigInd -= 1\n",
    "    if commaInd == -1:\n",
    "        commaInd = len(err_str)\n",
    "    commaInd = commaInd if commaInd != -1 else len(err_str)\n",
    "    dec_pot = - lastSigInd + commaInd - (lastSigInd < commaInd)\n",
    "    err = err * 10**(-dec_pot)\n",
    "    err = mt.ceil(err)\n",
    "    if dec_pot <= 1:\n",
    "        err_str = str(err * 10**(dec_pot))\n",
    "    else:\n",
    "        err_str = str(err) + \"\\cdot 10^{\" + str(dec_pot) + \"}\"\n",
    "    if lastSigInd > commaInd:\n",
    "        err_str = err_str[:lastSigInd + 1]\n",
    "\n",
    "    if debug:\n",
    "        print(\"err =\", err_str, \"( as Number:\", err, \"*10^\", dec_pot, \")\")\n",
    "\n",
    "    inpt *= 10**(-dec_pot)\n",
    "    inpt_str = str(round(inpt) * 10**dec_pot)\n",
    "    if debug:\n",
    "        print(\"inpt_str = \", inpt_str, \"\\n\", \"inpt=\", inpt)\n",
    "    commaInd_inpt = getCommaIndex(inpt_str)\n",
    "\n",
    "    if len(inpt_str) - 1 - commaInd_inpt != -dec_pot:\n",
    "        inpt_str += '0'\n",
    "    commaInd_inpt = getCommaIndex(inpt_str)\n",
    "\n",
    "\n",
    "    inpt_str = inpt_str[:commaInd_inpt - dec_pot + 1]\n",
    "    if commaInd_inpt - dec_pot + 1 < commaInd_inpt:\n",
    "        inpt_str += \" \\cdot 10^{\" + str(dec_pot - 1) +\"}\"\n",
    "    if debug:\n",
    "        print(inpt_str, \"\\pm\", err_str)\n",
    "    if pot != 0:\n",
    "        inpt_str += (\"\\cdot 10^{\" + str(-pot) + \"}\" if pot != 0 else \"\")\n",
    "        err_str += (\"\\cdot 10^{\" + str(-pot) + \"}\" if pot != 0 else \"\")\n",
    "    return inpt_str, err_str\n",
    "\n",
    "\n",
    "def sigFormatVal(val, err, sig_digits = 1, debug = False, output = True, outpAndReturn = False):\n",
    "\n",
    "    if debug:\n",
    "        print(\"val=\", val, \"err=\", err)\n",
    "    fmt = sig_format(val, err, sig_digits, debug = debug)\n",
    "\n",
    "    res = \"$ \" + fmt[0] + \" \\pm \" + fmt[1]\n",
    "    if val != 0:\n",
    "        if debug:\n",
    "            print(\"val=\", val, \"err = \", err, \"err/val = \", err/val)\n",
    "            print(val/err * val)\n",
    "        res += \"\\: (\\pm \" + sig_format(0, np.abs(100.0 * err/val), 2, smallDigits=False)[1] + \"\\%)\"\n",
    "    res += \"$\"\n",
    "    if output:\n",
    "        print(res)\n",
    "        if not outpAndReturn:\n",
    "            return\n",
    "\n",
    "    return res\n",
    "\n",
    "\n",
    "\n",
    "def isNumber(obj):\n",
    "    try:\n",
    "        tmp = int(obj)\n",
    "        return True\n",
    "    except:\n",
    "        return False\n",
    "#IMPORTANT NOTE: CANT HANDLE SIGNIFICANT 0 AS LAST DIGIT! (for example error 0.10 will be treated as 0.1)\n",
    "\n",
    "def sigFormatTable(arr, val_err_indices, sig_digits = 1, int_cols = [], debug = False):\n",
    "    res = [[\"undefined\" for k in range(len(arr[i]))] for i in range(len(arr))]\n",
    "    trashCan = []\n",
    "    for i in range(len(arr)):\n",
    "        for j in val_err_indices:\n",
    "            if i == j[0]:\n",
    "                for k in range(len(arr[i])):\n",
    "                    if not isNumber(arr[i][k]):\n",
    "                        res[i][k] = str(arr[i][k])\n",
    "                        if debug:\n",
    "                            print(res[i][k])\n",
    "                        continue\n",
    "                    fmt = sig_format(arr[i][k], arr[j[1]][k], sig_digits)\n",
    "                    res[i][k] =  \"$ \" + fmt[0] + \" \\pm \" + fmt[1]\n",
    "                    if arr[i][k] != 0:\n",
    "                        res[i][k] += \"\\: (\\pm \" + sig_format(0, np.abs(100.0 * arr[j[1]][k]/arr[i][k]), 2, smallDigits=False)[1] + \"\\%)\"\n",
    "                    res[i][k] += \"$\"\n",
    "                trashCan.append(j[1])\n",
    "                break\n",
    "        if res[i][0] == \"undefined\":\n",
    "            for k in range(len(arr[i])):\n",
    "                if not isNumber(arr[i][k]):\n",
    "                    res[i][k] = str(arr[i][k])\n",
    "                    continue\n",
    "                if i in int_cols:\n",
    "                   res[i][k] = \"$ \" + str(int(arr[i][k])) + \"$\"\n",
    "                else:\n",
    "                    res[i][k] = \"$ \" + sig_format(arr[i][k], arr[i][k], sig_digits)[0] + \"$\"\n",
    "\n",
    "\n",
    "    for e in trashCan:\n",
    "        res.pop(e)\n",
    "        for i in range(len(trashCan)):\n",
    "            if trashCan[i] > e:\n",
    "                trashCan[i] = trashCan[i] - 1\n",
    "    return res\n",
    "\n",
    "#IMPORTANT NOTE: CANT HANDLE SIGNIFICANT 0 AS LAST DIGIT! (for example error 0.10 will be treated as 0.1)\n",
    "\n",
    "def asLatex(arr, col_labels, dontInvert = False):\n",
    "    df = pd.DataFrame(invertArray(arr), columns=col_labels) if not dontInvert else pd.DataFrame(arr, columns = col_labels)\n",
    "    cformate = \"|\"\n",
    "    for i in df.columns:\n",
    "        cformate += \"l|\"\n",
    "\n",
    "    res = \"\"\"\\\\begin{table}[]\\n\n",
    "    \\t\\centering\\n\n",
    "    \\t\\caption{CHANGE THIS LATER}\\n\\t\"\"\" + df.style.hide(axis=\"index\").to_latex(column_format=cformate, hrules = True).replace(\"toprule\", \"hline\").replace(\"\\n\", \"\\n\\t\\t\") + \"\\t\\label{tab:my_label}\\n\" + \"\\end{table}\"\n",
    "    res = res.replace(\"midrule\", \"hline\")\n",
    "    return res.replace(\"bottomrule\", \"hline\")\n",
    "\n",
    "def printTable(arr, col_labels):\n",
    "    df = pd.DataFrame(invertArray(arr), columns=col_labels)\n",
    "    print(df.to_markdown())\n",
    "\n",
    "def showTable(arr, col_labels):\n",
    "    df = pd.DataFrame(invertArray(arr), columns=col_labels)\n",
    "    display(df)"
   ],
   "metadata": {
    "collapsed": false,
    "ExecuteTime": {
     "end_time": "2023-07-08T17:00:37.763986900Z",
     "start_time": "2023-07-08T17:00:37.718913600Z"
    }
   }
  },
  {
   "cell_type": "code",
   "execution_count": 3,
   "outputs": [],
   "source": [
    "T = [88, 32.88, 87.6]\n",
    "sigT = 0.01"
   ],
   "metadata": {
    "collapsed": false,
    "ExecuteTime": {
     "end_time": "2023-07-08T17:00:37.781027300Z",
     "start_time": "2023-07-08T17:00:37.766133500Z"
    }
   }
  },
  {
   "cell_type": "code",
   "execution_count": 4,
   "outputs": [],
   "source": [
    "nr_b = 0\n",
    "nr_c = 1\n",
    "nr_d = 2"
   ],
   "metadata": {
    "collapsed": false,
    "ExecuteTime": {
     "end_time": "2023-07-08T17:00:37.800176100Z",
     "start_time": "2023-07-08T17:00:37.781027300Z"
    }
   }
  },
  {
   "cell_type": "code",
   "execution_count": 5,
   "outputs": [],
   "source": [
    "RC = [mt.log(9) * t for t in T]\n",
    "sigRC = mt.log(9) * sigT\n"
   ],
   "metadata": {
    "collapsed": false,
    "ExecuteTime": {
     "end_time": "2023-07-08T17:00:37.810659400Z",
     "start_time": "2023-07-08T17:00:37.799162200Z"
    }
   }
  },
  {
   "cell_type": "code",
   "execution_count": 6,
   "outputs": [
    {
     "name": "stdout",
     "output_type": "stream",
     "text": [
      "\\begin{table}[]\n",
      "\n",
      "    \t\\centering\n",
      "\n",
      "    \t\\caption{CHANGE THIS LATER}\n",
      "\t\\begin{tabular}{|l|l|}\n",
      "\t\t\\hline\n",
      "\t\tMessung 3. & RC in \\Ohm \\un F \\\\\n",
      "\t\t\\hline\n",
      "\t\tb & $ 193.356 \\pm 0.022\\: (\\pm 0.012\\%)$ \\\\\n",
      "\t\tc & $ 72.245 \\pm 0.022\\: (\\pm 0.031\\%)$ \\\\\n",
      "\t\td & $ 192.477 \\pm 0.022\\: (\\pm 0.012\\%)$ \\\\\n",
      "\t\t\\hline\n",
      "\t\t\\end{tabular}\n",
      "\t\t\t\\label{tab:my_label}\n",
      "\\end{table}\n"
     ]
    }
   ],
   "source": [
    "tbl = [[\"b\", \"c\", \"d\"], [rc for rc in RC], [sigRC for rc in RC]]\n",
    "R_2 = 2.01 *10**6\n",
    "sig_R_2 = 0.01\n",
    "\n",
    "print(asLatex(sigFormatTable(tbl, [[1, 2]]), [\"Messung 3.\", \"RC in \\Ohm \\\\un F\"]))"
   ],
   "metadata": {
    "collapsed": false,
    "ExecuteTime": {
     "end_time": "2023-07-08T17:00:37.920145500Z",
     "start_time": "2023-07-08T17:00:37.815873600Z"
    }
   }
  },
  {
   "cell_type": "markdown",
   "source": [],
   "metadata": {
    "collapsed": false
   }
  },
  {
   "cell_type": "code",
   "execution_count": 7,
   "outputs": [
    {
     "name": "stdout",
     "output_type": "stream",
     "text": [
      "$ 336960 \\cdot 10^{1} \\pm 18\\cdot 10^{2}\\: (\\pm 0.052\\%)$\n"
     ]
    }
   ],
   "source": [
    "#Calculate R_oszi:\n",
    "R_oszi = R_2 * (RC[nr_b]/RC[nr_c] - 1)\n",
    "sig_R_Oszi = (sig_R_2**2 * (RC[nr_b]/RC[nr_c] - 1)**2 + sigRC**2 * ((R_2/RC[nr_c])**2 + (R_2 * (RC[nr_b]/RC[nr_c]**2))**2))**0.5\n",
    "sigFormatVal(R_oszi, sig_R_Oszi)\n",
    "\n",
    "\n"
   ],
   "metadata": {
    "collapsed": false,
    "ExecuteTime": {
     "end_time": "2023-07-08T17:00:37.978965400Z",
     "start_time": "2023-07-08T17:00:37.923158500Z"
    }
   }
  },
  {
   "cell_type": "code",
   "execution_count": 8,
   "outputs": [
    {
     "name": "stdout",
     "output_type": "stream",
     "text": [
      "$ 5738\\cdot 10^{-8} \\pm 4\\cdot 10^{-8}\\: (\\pm 0.054\\%)$\n"
     ]
    }
   ],
   "source": [
    "#Calcluate C:\n",
    "R = [R_oszi, 1/(1/R_oszi + 1/R_2)]\n",
    "sigR = [sig_R_Oszi, ((-1/(1/R_oszi + 1/R_2)**2)**2 * (sig_R_Oszi**2 * 1/R_oszi**4 + sig_R_2**2 * 1/R_2**4))**0.5]\n",
    "\n",
    "C = [RC[i]/R[i] for i in range(len(R))][0]\n",
    "sigC = [((sigRC**2)/R[i]**2 + sigR[i]**2 * RC[i]**2/R[i]**4)**0.5 for i in range(len(R))][0]\n",
    "sigFormatVal(C, sigC)"
   ],
   "metadata": {
    "collapsed": false,
    "ExecuteTime": {
     "end_time": "2023-07-08T17:00:38.010357400Z",
     "start_time": "2023-07-08T17:00:37.940851Z"
    }
   }
  },
  {
   "cell_type": "code",
   "execution_count": 9,
   "outputs": [
    {
     "name": "stdout",
     "output_type": "stream",
     "text": [
      "$ 740 \\cdot 10^{6} \\pm 13\\cdot 10^{7}\\: (\\pm 17\\%)$\n"
     ]
    }
   ],
   "source": [
    "R_d = RC[nr_d]/C\n",
    "sigR_d = (sigRC**2/C**2 + sigC**2 * RC[nr_d]**2/C**4)**0.5\n",
    "\n",
    "R.append(R_d)\n",
    "sigR.append(sigR_d)\n",
    "R_x = 1/(1/R_d - 1/R_oszi)\n",
    "\n",
    "sigR_x = ((R_oszi**2/(R_oszi - R_d)**2)**2 * sigR_d**2 + sig_R_Oszi**2 * (R_d**2 / (R_oszi - R_d)**2)**2)**0.5\n",
    "    #((-1/(1/R_d - 1/R_oszi)**2)**2 * (sigR_d**2 * (-1/R_d**2)**2 + sig_R_Oszi**2 * (1/R_oszi**2)**2))**0.5\n",
    "\n",
    "sigFormatVal(R_x, sigR_x)"
   ],
   "metadata": {
    "collapsed": false,
    "ExecuteTime": {
     "end_time": "2023-07-08T17:00:38.016092700Z",
     "start_time": "2023-07-08T17:00:37.955439300Z"
    }
   }
  },
  {
   "cell_type": "code",
   "execution_count": 10,
   "outputs": [
    {
     "name": "stdout",
     "output_type": "stream",
     "text": [
      "\\begin{table}[]\n",
      "\n",
      "    \t\\centering\n",
      "\n",
      "    \t\\caption{CHANGE THIS LATER}\n",
      "\t\\begin{tabular}{|l|l|}\n",
      "\t\t\\hline\n",
      "\t\tMessung & R in \\Ohm \\\\\n",
      "\t\t\\hline\n",
      "\t\tb & $ 336960 \\cdot 10^{1} \\pm 18\\cdot 10^{2}\\: (\\pm 0.052\\%)$ \\\\\n",
      "\t\tc & $ 1258990 \\pm 250\\: (\\pm 0.02\\%)$ \\\\\n",
      "\t\td & $ 335420 \\cdot 10^{1} \\pm 19\\cdot 10^{2}\\: (\\pm 0.055\\%)$ \\\\\n",
      "\t\t\\hline\n",
      "\t\t\\end{tabular}\n",
      "\t\t\t\\label{tab:my_label}\n",
      "\\end{table}\n"
     ]
    }
   ],
   "source": [
    "\n",
    "tbl = [[\"b\", \"c\", \"d\"], [r for r in R], [sigr for sigr in sigR]]\n",
    "print(asLatex(sigFormatTable(tbl, [[1, 2]]), [\"Messung\", \"R in \\Ohm\"]))"
   ],
   "metadata": {
    "collapsed": false,
    "ExecuteTime": {
     "end_time": "2023-07-08T17:00:38.016092700Z",
     "start_time": "2023-07-08T17:00:37.969461400Z"
    }
   }
  },
  {
   "cell_type": "code",
   "execution_count": 10,
   "outputs": [],
   "source": [],
   "metadata": {
    "collapsed": false,
    "ExecuteTime": {
     "end_time": "2023-07-08T17:00:38.017093900Z",
     "start_time": "2023-07-08T17:00:37.984869Z"
    }
   }
  },
  {
   "cell_type": "code",
   "execution_count": 10,
   "outputs": [],
   "source": [],
   "metadata": {
    "collapsed": false,
    "ExecuteTime": {
     "end_time": "2023-07-08T17:00:38.073092400Z",
     "start_time": "2023-07-08T17:00:38.010922400Z"
    }
   }
  },
  {
   "cell_type": "code",
   "execution_count": 10,
   "outputs": [],
   "source": [],
   "metadata": {
    "collapsed": false,
    "ExecuteTime": {
     "end_time": "2023-07-08T17:00:38.085358700Z",
     "start_time": "2023-07-08T17:00:38.016092700Z"
    }
   }
  },
  {
   "cell_type": "code",
   "execution_count": 10,
   "outputs": [],
   "source": [],
   "metadata": {
    "collapsed": false,
    "ExecuteTime": {
     "end_time": "2023-07-08T17:00:38.085358700Z",
     "start_time": "2023-07-08T17:00:38.033488200Z"
    }
   }
  }
 ],
 "metadata": {
  "kernelspec": {
   "display_name": "Python 3",
   "language": "python",
   "name": "python3"
  },
  "language_info": {
   "codemirror_mode": {
    "name": "ipython",
    "version": 2
   },
   "file_extension": ".py",
   "mimetype": "text/x-python",
   "name": "python",
   "nbconvert_exporter": "python",
   "pygments_lexer": "ipython2",
   "version": "2.7.6"
  }
 },
 "nbformat": 4,
 "nbformat_minor": 0
}
